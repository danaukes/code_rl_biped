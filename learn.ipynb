{
 "cells": [
  {
   "cell_type": "code",
   "execution_count": 1,
   "metadata": {},
   "outputs": [],
   "source": [
    "import gymnasium as gym\n",
    "from my_envs.biped import BipedEnv\n",
    "from stable_baselines3 import PPO\n",
    "import numpy\n",
    "import matplotlib.pyplot as plt\n",
    "import datetime\n",
    "import torch"
   ]
  },
  {
   "cell_type": "code",
   "execution_count": 2,
   "metadata": {},
   "outputs": [],
   "source": [
    "now = datetime.datetime.now()\n",
    "run_prefix = datetime.datetime.strftime(now, '%Y-%m-%d-%H-%M')"
   ]
  },
  {
   "cell_type": "code",
   "execution_count": null,
   "metadata": {},
   "outputs": [],
   "source": []
  },
  {
   "cell_type": "code",
   "execution_count": null,
   "metadata": {
    "scrolled": true
   },
   "outputs": [],
   "source": [
    "env = gym.make('biped',render_mode='none',max_episode_steps=BipedEnv.max_steps)\n",
    "model = PPO(\n",
    "    \"MlpPolicy\", env, seed=3,\n",
    "    # n_steps=4096,\n",
    "    # policy_kwargs={'activation_fn':torch.nn.ELU},\n",
    "    verbose=1,tensorboard_log='log/'+run_prefix+'/'\n",
    ")\n",
    "model.learn(total_timesteps=500000,tb_log_name='run')\n",
    "model.save(run_prefix+'_run_1.zip')\n",
    "env.close()"
   ]
  },
  {
   "cell_type": "code",
   "execution_count": null,
   "metadata": {},
   "outputs": [],
   "source": [
    "env = gym.make('biped',render_mode='none',max_episode_steps=BipedEnv.max_steps)\n",
    "model = PPO.load(run_prefix+'_run_1.zip', env=env)\n",
    "model.learn(total_timesteps=200000,tb_log_name=\"second_run\", reset_num_timesteps=False)\n",
    "model.save(run_prefix+'-2.zip')\n",
    "env.close()"
   ]
  }
 ],
 "metadata": {
  "kernelspec": {
   "display_name": "Python 3 (ipykernel)",
   "language": "python",
   "name": "python3"
  },
  "language_info": {
   "codemirror_mode": {
    "name": "ipython",
    "version": 3
   },
   "file_extension": ".py",
   "mimetype": "text/x-python",
   "name": "python",
   "nbconvert_exporter": "python",
   "pygments_lexer": "ipython3",
   "version": "3.11.10"
  }
 },
 "nbformat": 4,
 "nbformat_minor": 4
}
