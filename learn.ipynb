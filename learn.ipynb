{
 "cells": [
  {
   "cell_type": "code",
   "execution_count": 1,
   "metadata": {},
   "outputs": [],
   "source": [
    "import gymnasium as gym\n",
    "import my_envs\n",
    "from stable_baselines3 import PPO\n",
    "import numpy\n",
    "import matplotlib.pyplot as plt\n"
   ]
  },
  {
   "cell_type": "code",
   "execution_count": 2,
   "metadata": {},
   "outputs": [],
   "source": [
    "import datetime\n"
   ]
  },
  {
   "cell_type": "code",
   "execution_count": 3,
   "metadata": {},
   "outputs": [
    {
     "name": "stdout",
     "output_type": "stream",
     "text": [
      "2024-10-17-21-04\n"
     ]
    }
   ],
   "source": [
    "now = datetime.datetime.now()\n",
    "run_prefix = datetime.datetime.strftime(now, '%Y-%m-%d-%H-%M')\n",
    "# run_prefix = 'my_run'\n",
    "print(run_prefix)"
   ]
  },
  {
   "cell_type": "code",
   "execution_count": 4,
   "metadata": {},
   "outputs": [],
   "source": [
    "env = gym.make(\"biped\",render_mode='none')"
   ]
  },
  {
   "cell_type": "code",
   "execution_count": null,
   "metadata": {},
   "outputs": [],
   "source": [
    "model = PPO(\"MlpPolicy\", env, verbose=1,tensorboard_log='log/'+run_prefix+'/')\n",
    "model.learn(total_timesteps=10000,tb_log_name=\"first_run\")\n",
    "model.save(run_prefix+'-1.zip')\n",
    "env.close()"
   ]
  },
  {
   "cell_type": "code",
   "execution_count": null,
   "metadata": {},
   "outputs": [],
   "source": [
    "env = gym.make(\"biped\",render_mode='none')\n",
    "model = PPO.load(run_prefix+'-1.zip', env=env)\n",
    "model.learn(total_timesteps=200000,tb_log_name=\"second_run\", reset_num_timesteps=False)\n",
    "model.save(run_prefix+'-2.zip')\n",
    "env.close()"
   ]
  },
  {
   "cell_type": "code",
   "execution_count": null,
   "metadata": {},
   "outputs": [],
   "source": [
    "env = gym.make(\"biped\",render_mode='none')\n",
    "model = PPO.load(run_prefix+'-2.zip', env=env)\n",
    "model.learn(total_timesteps=500000,tb_log_name=\"third_run\", reset_num_timesteps=False)\n",
    "model.save(run_prefix+'-3.zip')\n",
    "env.close()"
   ]
  },
  {
   "cell_type": "code",
   "execution_count": null,
   "metadata": {},
   "outputs": [],
   "source": []
  }
 ],
 "metadata": {
  "kernelspec": {
   "display_name": "sb3",
   "language": "python",
   "name": "python3"
  },
  "language_info": {
   "codemirror_mode": {
    "name": "ipython",
    "version": 3
   },
   "file_extension": ".py",
   "mimetype": "text/x-python",
   "name": "python",
   "nbconvert_exporter": "python",
   "pygments_lexer": "ipython3",
   "version": "3.11.10"
  }
 },
 "nbformat": 4,
 "nbformat_minor": 4
}
