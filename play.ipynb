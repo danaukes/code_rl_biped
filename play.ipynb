{
 "cells": [
  {
   "cell_type": "code",
   "execution_count": 1,
   "metadata": {},
   "outputs": [],
   "source": [
    "import gymnasium as gym\n",
    "import my_envs\n",
    "from stable_baselines3 import PPO\n",
    "import numpy\n",
    "import matplotlib.pyplot as plt"
   ]
  },
  {
   "cell_type": "code",
   "execution_count": 2,
   "metadata": {},
   "outputs": [
    {
     "name": "stdout",
     "output_type": "stream",
     "text": [
      "Wrapping the env with a `Monitor` wrapper\n",
      "Wrapping the env in a DummyVecEnv.\n"
     ]
    },
    {
     "name": "stderr",
     "output_type": "stream",
     "text": [
      "libdecor-gtk-WARNING: Failed to initialize GTK\n",
      "Failed to load plugin 'libdecor-gtk.so': failed to init\n",
      "No plugins found, falling back on no decorations\n",
      "/home/danaukes/envs/sb3/lib/python3.11/site-packages/gymnasium/utils/passive_env_checker.py:335: UserWarning: \u001b[33mWARN: No render fps was declared in the environment (env.metadata['render_fps'] is None or not defined), rendering may occur at inconsistent fps.\u001b[0m\n",
      "  logger.warn(\n"
     ]
    },
    {
     "ename": "",
     "evalue": "",
     "output_type": "error",
     "traceback": [
      "\u001b[1;31mThe Kernel crashed while executing code in the current cell or a previous cell. \n",
      "\u001b[1;31mPlease review the code in the cell(s) to identify a possible cause of the failure. \n",
      "\u001b[1;31mClick <a href='https://aka.ms/vscodeJupyterKernelCrash'>here</a> for more info. \n",
      "\u001b[1;31mView Jupyter <a href='command:jupyter.viewOutput'>log</a> for further details."
     ]
    }
   ],
   "source": [
    "env = gym.make(\"biped\",render_mode='human')\n",
    "model = PPO.load(\"2024-10-17-18-26-3\",env=env)\n",
    "\n",
    "vec_env = model.get_env()\n",
    "vec_env.render_mode='human'\n",
    "obs = vec_env.reset()\n",
    "actions = []\n",
    "rewards = []\n",
    "states = []\n",
    "for i in range(200):\n",
    "    action, _states = model.predict(obs, deterministic=True)\n",
    "    actions.append(action)\n",
    "    obs, reward, done, info = vec_env.step(action)\n",
    "    # rewards.append(info[0]['reward_calcs'])\n",
    "    vec_env.render(\"human\")\n",
    "    states.append(obs)\n"
   ]
  }
 ],
 "metadata": {
  "kernelspec": {
   "display_name": "sb3",
   "language": "python",
   "name": "python3"
  },
  "language_info": {
   "codemirror_mode": {
    "name": "ipython",
    "version": 3
   },
   "file_extension": ".py",
   "mimetype": "text/x-python",
   "name": "python",
   "nbconvert_exporter": "python",
   "pygments_lexer": "ipython3",
   "version": "3.11.10"
  }
 },
 "nbformat": 4,
 "nbformat_minor": 2
}
